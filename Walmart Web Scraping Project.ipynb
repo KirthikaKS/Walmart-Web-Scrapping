{
 "cells": [
  {
   "cell_type": "code",
   "execution_count": 1,
   "id": "2518953f",
   "metadata": {},
   "outputs": [],
   "source": [
    "#import libraries\n",
    "\n",
    "from bs4 import BeautifulSoup\n",
    "import requests\n",
    "import time\n",
    "import datetime \n",
    "import pandas as pd\n",
    "import smtplib  #also helps us send email to us "
   ]
  },
  {
   "cell_type": "code",
   "execution_count": 2,
   "id": "e660ef9e",
   "metadata": {
    "scrolled": true
   },
   "outputs": [
    {
     "name": "stdout",
     "output_type": "stream",
     "text": [
      "\n",
      "                   Apple Watch Series 10 GPS 42mm Rose Gold Aluminum Case with Plum Sport Loop\n",
      "                  \n",
      "\n",
      "                    Now $329.00\n",
      "                   \n"
     ]
    }
   ],
   "source": [
    "#Connect to website\n",
    "#URL = 'https://www.amazon.com/Funny-Data-Systems-Business-Analyst/dp/B07FNW9FGJ/ref=sr_1_3?dchild=1&keywords=data%2Banalyst%2Btshirt&qid=1626655184&sr=8-3&customId=B0752XJYNL&th=1'\n",
    "\n",
    "#headers = {\"User-Agent\": \"Mozilla/5.0 (Windows NT 10.0; Win64; x64) AppleWebKit/537.36 (KHTML, like Gecko) Chrome/131.0.0.0 Safari/537.36\"}\n",
    "\n",
    "#page = requests.get(URL, headers=headers) #gets the data from the url\n",
    "\n",
    "#soup1 = BeautifulSoup(page.content, \"html.parser\")\n",
    "\n",
    "#soup2 = BeautifulSoup(soup1.prettify(), \"html.parser\")\n",
    "\n",
    "#title = soup2.find(id=\"productTitle\").get_text()\n",
    "\n",
    "#print(title)\n",
    "\n",
    "# Connect to Website and pull in data\n",
    "\n",
    "URL = 'https://www.walmart.com/ip/Apple-Watch-Series-10-GPS-42mm-Rose-Gold-Aluminum-Case-with-Plum-Sport-Loop/11394812903?classType=VARIANT'\n",
    "\n",
    "headers = {\"User-Agent\": \"Mozilla/5.0 (Windows NT 10.0; Win64; x64) AppleWebKit/537.36 (KHTML, like Gecko) Chrome/78.0.3904.108 Safari/537.36\", \"Accept-Encoding\":\"gzip, deflate\", \"Accept\":\"text/html,application/xhtml+xml,application/xml;q=0.9,*/*;q=0.8\", \"DNT\":\"1\",\"Connection\":\"close\", \"Upgrade-Insecure-Requests\":\"1\"}\n",
    "\n",
    "page = requests.get(URL, headers=headers)\n",
    "\n",
    "soup1 = BeautifulSoup(page.content, \"html.parser\")\n",
    "\n",
    "soup2 = BeautifulSoup(soup1.prettify(), \"html.parser\")\n",
    "\n",
    "title = soup2.find(id=\"main-title\").get_text()\n",
    "\n",
    "price = soup2.find(\"span\", {\n",
    "   \"itemprop\": \"price\",\n",
    "   \"data-seo-id\": \"hero-price\",\n",
    "   \"data-fs-element\": \"price\"\n",
    "}).get_text()\n",
    "\n",
    "print(title)\n",
    "print(price)\n"
   ]
  },
  {
   "cell_type": "code",
   "execution_count": 3,
   "id": "8a51a15e",
   "metadata": {},
   "outputs": [
    {
     "name": "stdout",
     "output_type": "stream",
     "text": [
      "2025-01-04\n"
     ]
    }
   ],
   "source": [
    "today = datetime.date.today()\n",
    "print(today)"
   ]
  },
  {
   "cell_type": "code",
   "execution_count": 4,
   "id": "8336d39f",
   "metadata": {},
   "outputs": [
    {
     "name": "stdout",
     "output_type": "stream",
     "text": [
      "Apple Watch Series 10 GPS 42mm Rose Gold Aluminum Case with Plum Sport Loop\n",
      "329.00\n"
     ]
    }
   ],
   "source": [
    "#price = price.strip()[3:] - it is too specific below is a generalized one \n",
    "\n",
    "price = ''.join(filter(lambda c: c.isdigit() or c == '.', price))\n",
    "title = title.strip()\n",
    "\n",
    "print(title)\n",
    "print(price)\n"
   ]
  },
  {
   "cell_type": "code",
   "execution_count": 5,
   "id": "13653eef",
   "metadata": {},
   "outputs": [],
   "source": [
    "import csv\n",
    "\n",
    "header = ['Title','Price','Date']\n",
    "data = [title,price,today]\n",
    "\n",
    "#this code also deletes the data when you rerun it \n",
    "\n",
    "with open('WalmartWebScrapingProject.csv', 'w', newline = '', encoding ='UTF8') as f:\n",
    "    writer = csv.writer(f)\n",
    "    writer.writerow(header)\n",
    "    writer.writerow(data)\n",
    "    "
   ]
  },
  {
   "cell_type": "code",
   "execution_count": 6,
   "id": "18946008",
   "metadata": {},
   "outputs": [
    {
     "name": "stdout",
     "output_type": "stream",
     "text": [
      "                                               Title  Price        Date\n",
      "0  Apple Watch Series 10 GPS 42mm Rose Gold Alumi...  329.0  2025-01-04\n"
     ]
    }
   ],
   "source": [
    "df = pd.read_csv(r\"C:\\Users\\KIRTHIKA K S\\WalmartWebScrapingProject.csv\")\n",
    "print(df)\n"
   ]
  },
  {
   "cell_type": "code",
   "execution_count": 7,
   "id": "7eb0c16c",
   "metadata": {},
   "outputs": [],
   "source": [
    "#We are appending data to CSV\n",
    "\n",
    "with open('WalmartWebScrapingProject.csv', 'a+', newline = '', encoding ='UTF8') as f:\n",
    "    writer = csv.writer(f)\n",
    "    writer.writerow(data)"
   ]
  },
  {
   "cell_type": "code",
   "execution_count": 8,
   "id": "cc89c5e1",
   "metadata": {},
   "outputs": [],
   "source": [
    "\n",
    "def check_price():\n",
    "    URL = 'https://www.walmart.com/ip/Apple-Watch-Series-10-GPS-42mm-Rose-Gold-Aluminum-Case-with-Plum-Sport-Loop/11394812903?classType=VARIANT'\n",
    "\n",
    "    headers = {\"User-Agent\": \"Mozilla/5.0 (Windows NT 10.0; Win64; x64) AppleWebKit/537.36 (KHTML, like Gecko) Chrome/78.0.3904.108 Safari/537.36\", \"Accept-Encoding\":\"gzip, deflate\", \"Accept\":\"text/html,application/xhtml+xml,application/xml;q=0.9,*/*;q=0.8\", \"DNT\":\"1\",\"Connection\":\"close\", \"Upgrade-Insecure-Requests\":\"1\"}\n",
    "\n",
    "    page = requests.get(URL, headers=headers)\n",
    "\n",
    "    soup1 = BeautifulSoup(page.content, \"html.parser\")\n",
    "\n",
    "    soup2 = BeautifulSoup(soup1.prettify(), \"html.parser\")\n",
    "\n",
    "    title = soup2.find(id=\"main-title\").get_text()\n",
    "\n",
    "    price = soup2.find(\"span\", {\n",
    "   \"itemprop\": \"price\",\n",
    "   \"data-seo-id\": \"hero-price\",\n",
    "   \"data-fs-element\": \"price\"\n",
    "    }).get_text()\n",
    "    \n",
    "    price = ''.join(filter(lambda c: c.isdigit() or c == '.', price))\n",
    "    title = title.strip()\n",
    "    \n",
    "    today = datetime.date.today()\n",
    "    print(today)\n",
    " \n",
    "    import csv\n",
    "\n",
    "    header = ['Title','Price','Date']\n",
    "    data = [title,price,today]\n",
    "    \n",
    "    with open('WalmartWebScrapingProject.csv', 'a+', newline = '', encoding ='UTF8') as f:\n",
    "        writer = csv.writer(f)\n",
    "        writer.writerow(data)\n",
    "        \n",
    "    if(price < 250):\n",
    "        send_mail()\n",
    "    \n"
   ]
  },
  {
   "cell_type": "code",
   "execution_count": null,
   "id": "94e57a13",
   "metadata": {},
   "outputs": [
    {
     "name": "stdout",
     "output_type": "stream",
     "text": [
      "2025-01-04\n"
     ]
    }
   ],
   "source": [
    "while(True):\n",
    "    check_price()\n",
    "    time.sleep(86400)"
   ]
  },
  {
   "cell_type": "code",
   "execution_count": 10,
   "id": "4be0fc83",
   "metadata": {},
   "outputs": [
    {
     "name": "stdout",
     "output_type": "stream",
     "text": [
      "                                               Title  Price        Date\n",
      "0  Apple Watch Series 10 GPS 42mm Rose Gold Alumi...  329.0  2025-01-04\n",
      "1  Apple Watch Series 10 GPS 42mm Rose Gold Alumi...  329.0  2025-01-04\n",
      "2  Apple Watch Series 10 GPS 42mm Rose Gold Alumi...  329.0  2025-01-04\n",
      "3  Apple Watch Series 10 GPS 42mm Rose Gold Alumi...  329.0  2025-01-04\n",
      "4  Apple Watch Series 10 GPS 42mm Rose Gold Alumi...  329.0  2025-01-04\n",
      "5  Apple Watch Series 10 GPS 42mm Rose Gold Alumi...  329.0  2025-01-04\n",
      "6  Apple Watch Series 10 GPS 42mm Rose Gold Alumi...  329.0  2025-01-04\n",
      "7  Apple Watch Series 10 GPS 42mm Rose Gold Alumi...  329.0  2025-01-04\n"
     ]
    }
   ],
   "source": [
    "df = pd.read_csv(r\"C:\\Users\\KIRTHIKA K S\\WalmartWebScrapingProject.csv\")\n",
    "print(df)\n"
   ]
  },
  {
   "cell_type": "code",
   "execution_count": null,
   "id": "46bf923b",
   "metadata": {},
   "outputs": [],
   "source": [
    "# If uou want to try sending yourself an email when a price hits below a certain level\n",
    "\n",
    "def send_mail():\n",
    "    server = smtplib.SMTP_SSL('smtp.gmail.com',465)\n",
    "    server.ehlo()\n",
    "    #server.starttls()\n",
    "    server.ehlo()\n",
    "    server.login('kskirthika26@gmail.com','xxxxxxxxxxxxxx')\n",
    "    \n",
    "    subject = \"The watch you want is below $250! Now is your chance to buy!\"\n",
    "    body = \"Kirthika, This is the moment we have been waiting for. Now is your chance to pick up the watch of your dreams. Don't mess it up!\"\n",
    "   \n",
    "    msg = f\"Subject: {subject}\\n\\n{body}\"\n",
    "    \n",
    "    server.sendmail(\n",
    "        'kskirthika26@gmail.com',\n",
    "        msg\n",
    "     \n",
    "    )"
   ]
  },
  {
   "cell_type": "code",
   "execution_count": null,
   "id": "f7bda4ff",
   "metadata": {},
   "outputs": [],
   "source": []
  }
 ],
 "metadata": {
  "kernelspec": {
   "display_name": "Python 3 (ipykernel)",
   "language": "python",
   "name": "python3"
  },
  "language_info": {
   "codemirror_mode": {
    "name": "ipython",
    "version": 3
   },
   "file_extension": ".py",
   "mimetype": "text/x-python",
   "name": "python",
   "nbconvert_exporter": "python",
   "pygments_lexer": "ipython3",
   "version": "3.9.13"
  }
 },
 "nbformat": 4,
 "nbformat_minor": 5
}
